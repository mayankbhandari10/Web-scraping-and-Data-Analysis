{
 "cells": [
  {
   "cell_type": "markdown",
   "id": "b57876a1",
   "metadata": {
    "papermill": {
     "duration": 0.032668,
     "end_time": "2022-04-01T12:16:14.492686",
     "exception": false,
     "start_time": "2022-04-01T12:16:14.460018",
     "status": "completed"
    },
    "tags": []
   },
   "source": [
    "Medical Insurance Cost Prediction using Machine Learning with Python.\n",
    "\n",
    "Regression Model:\n",
    "Linear Regression\n",
    "Language Python\n",
    "\n",
    "Problem Statement: Predict the medical Insurence cost a person.\n",
    "\n",
    "Workflow- get the data---> Data Analysis ----> Data Preprocessing ---> Train Test Split-----> Tarin the model(Linera Regression Model) ----> Trained linear Data----> Test it with new data ----> Prediction Insurence cost.\n",
    "\n",
    "\n",
    "\n"
   ]
  },
  {
   "cell_type": "code",
   "execution_count": 1,
   "id": "a53c82bd",
   "metadata": {
    "execution": {
     "iopub.execute_input": "2022-04-01T12:16:14.557712Z",
     "iopub.status.busy": "2022-04-01T12:16:14.555952Z",
     "iopub.status.idle": "2022-04-01T12:16:15.980497Z",
     "shell.execute_reply": "2022-04-01T12:16:15.979273Z",
     "shell.execute_reply.started": "2022-04-01T11:10:44.751860Z"
    },
    "papermill": {
     "duration": 1.458296,
     "end_time": "2022-04-01T12:16:15.980730",
     "exception": false,
     "start_time": "2022-04-01T12:16:14.522434",
     "status": "completed"
    },
    "tags": []
   },
   "outputs": [],
   "source": [
    "# Import the Libraries \n",
    "\n",
    "import numpy as np\n",
    "import pandas as pd\n",
    "import matplotlib.pyplot as plt\n",
    "import seaborn as sns\n",
    "from sklearn.model_selection import train_test_split\n",
    "from sklearn.linear_model import LinearRegression\n",
    "from sklearn import metrics\n"
   ]
  },
  {
   "cell_type": "markdown",
   "id": "18acc8b1",
   "metadata": {
    "papermill": {
     "duration": 0.029307,
     "end_time": "2022-04-01T12:16:16.040804",
     "exception": false,
     "start_time": "2022-04-01T12:16:16.011497",
     "status": "completed"
    },
    "tags": []
   },
   "source": [
    "Read the data set using pandas for data collection and Analysis."
   ]
  },
  {
   "cell_type": "code",
   "execution_count": 2,
   "id": "84276ae2",
   "metadata": {
    "execution": {
     "iopub.execute_input": "2022-04-01T12:16:16.103699Z",
     "iopub.status.busy": "2022-04-01T12:16:16.102998Z",
     "iopub.status.idle": "2022-04-01T12:16:16.144480Z",
     "shell.execute_reply": "2022-04-01T12:16:16.145006Z",
     "shell.execute_reply.started": "2022-04-01T11:10:44.781615Z"
    },
    "papermill": {
     "duration": 0.075649,
     "end_time": "2022-04-01T12:16:16.145200",
     "exception": false,
     "start_time": "2022-04-01T12:16:16.069551",
     "status": "completed"
    },
    "tags": []
   },
   "outputs": [
    {
     "data": {
      "text/html": [
       "<div>\n",
       "<style scoped>\n",
       "    .dataframe tbody tr th:only-of-type {\n",
       "        vertical-align: middle;\n",
       "    }\n",
       "\n",
       "    .dataframe tbody tr th {\n",
       "        vertical-align: top;\n",
       "    }\n",
       "\n",
       "    .dataframe thead th {\n",
       "        text-align: right;\n",
       "    }\n",
       "</style>\n",
       "<table border=\"1\" class=\"dataframe\">\n",
       "  <thead>\n",
       "    <tr style=\"text-align: right;\">\n",
       "      <th></th>\n",
       "      <th>age</th>\n",
       "      <th>sex</th>\n",
       "      <th>bmi</th>\n",
       "      <th>children</th>\n",
       "      <th>smoker</th>\n",
       "      <th>region</th>\n",
       "      <th>charges</th>\n",
       "    </tr>\n",
       "  </thead>\n",
       "  <tbody>\n",
       "    <tr>\n",
       "      <th>0</th>\n",
       "      <td>19</td>\n",
       "      <td>female</td>\n",
       "      <td>27.90</td>\n",
       "      <td>0</td>\n",
       "      <td>yes</td>\n",
       "      <td>southwest</td>\n",
       "      <td>16884.9240</td>\n",
       "    </tr>\n",
       "    <tr>\n",
       "      <th>1</th>\n",
       "      <td>18</td>\n",
       "      <td>male</td>\n",
       "      <td>33.77</td>\n",
       "      <td>1</td>\n",
       "      <td>no</td>\n",
       "      <td>southeast</td>\n",
       "      <td>1725.5523</td>\n",
       "    </tr>\n",
       "  </tbody>\n",
       "</table>\n",
       "</div>"
      ],
      "text/plain": [
       "   age     sex    bmi  children smoker     region     charges\n",
       "0   19  female  27.90         0    yes  southwest  16884.9240\n",
       "1   18    male  33.77         1     no  southeast   1725.5523"
      ]
     },
     "execution_count": 2,
     "metadata": {},
     "output_type": "execute_result"
    }
   ],
   "source": [
    "#nrows\n",
    "insurence_dataset=pd.read_csv(\"../input/medical-cost-personal-dataset/insurance.csv\")\n",
    "#insurence_dataset.shape\n",
    "insurence_dataset.head(2)\n"
   ]
  },
  {
   "cell_type": "code",
   "execution_count": 3,
   "id": "dc0430b9",
   "metadata": {
    "execution": {
     "iopub.execute_input": "2022-04-01T12:16:16.223347Z",
     "iopub.status.busy": "2022-04-01T12:16:16.222629Z",
     "iopub.status.idle": "2022-04-01T12:16:16.229039Z",
     "shell.execute_reply": "2022-04-01T12:16:16.228426Z",
     "shell.execute_reply.started": "2022-04-01T11:10:44.808781Z"
    },
    "papermill": {
     "duration": 0.053701,
     "end_time": "2022-04-01T12:16:16.229189",
     "exception": false,
     "start_time": "2022-04-01T12:16:16.175488",
     "status": "completed"
    },
    "tags": []
   },
   "outputs": [
    {
     "data": {
      "text/plain": [
       "(662, 5)"
      ]
     },
     "execution_count": 3,
     "metadata": {},
     "output_type": "execute_result"
    }
   ],
   "source": [
    "insurence_dataset['age'].value_counts()\n",
    "insurence_dataset['smoker']\n",
    "\n",
    "# Find the total number of smokers who are female.\n",
    "\n",
    "girls_smoker=insurence_dataset[['age','smoker','sex','bmi','children']] [insurence_dataset['sex'] == \"female\"]\n",
    "girls_smoker.shape\n",
    "\n",
    "# Find the total number of smokers who are male.\n",
    "#boys_smoker=insurence_dataset[['age','smoker','sex','bmi']] [insurence_dataset['sex'] == \"male\"]\n",
    "#boys_smoker\n"
   ]
  },
  {
   "cell_type": "markdown",
   "id": "5b7e9148",
   "metadata": {
    "papermill": {
     "duration": 0.028585,
     "end_time": "2022-04-01T12:16:16.288398",
     "exception": false,
     "start_time": "2022-04-01T12:16:16.259813",
     "status": "completed"
    },
    "tags": []
   },
   "source": [
    "**GET The Information from the dataset**"
   ]
  },
  {
   "cell_type": "code",
   "execution_count": 4,
   "id": "9ea9ff23",
   "metadata": {
    "execution": {
     "iopub.execute_input": "2022-04-01T12:16:16.365155Z",
     "iopub.status.busy": "2022-04-01T12:16:16.364456Z",
     "iopub.status.idle": "2022-04-01T12:16:16.369436Z",
     "shell.execute_reply": "2022-04-01T12:16:16.370136Z",
     "shell.execute_reply.started": "2022-04-01T11:11:04.683329Z"
    },
    "papermill": {
     "duration": 0.053543,
     "end_time": "2022-04-01T12:16:16.370400",
     "exception": false,
     "start_time": "2022-04-01T12:16:16.316857",
     "status": "completed"
    },
    "tags": []
   },
   "outputs": [
    {
     "name": "stdout",
     "output_type": "stream",
     "text": [
      "<class 'pandas.core.frame.DataFrame'>\n",
      "RangeIndex: 1338 entries, 0 to 1337\n",
      "Data columns (total 7 columns):\n",
      " #   Column    Non-Null Count  Dtype  \n",
      "---  ------    --------------  -----  \n",
      " 0   age       1338 non-null   int64  \n",
      " 1   sex       1338 non-null   object \n",
      " 2   bmi       1338 non-null   float64\n",
      " 3   children  1338 non-null   int64  \n",
      " 4   smoker    1338 non-null   object \n",
      " 5   region    1338 non-null   object \n",
      " 6   charges   1338 non-null   float64\n",
      "dtypes: float64(2), int64(2), object(3)\n",
      "memory usage: 73.3+ KB\n"
     ]
    }
   ],
   "source": [
    "insurence_dataset.info()"
   ]
  },
  {
   "cell_type": "markdown",
   "id": "f02d29f0",
   "metadata": {
    "papermill": {
     "duration": 0.028531,
     "end_time": "2022-04-01T12:16:16.429136",
     "exception": false,
     "start_time": "2022-04-01T12:16:16.400605",
     "status": "completed"
    },
    "tags": []
   },
   "source": [
    "**Categorical Features in the data set are mentioned are below.**\n",
    "\n",
    " ###  Column   \n",
    "---  ------   \n",
    " 0   age        \n",
    " 1   sex      category  \n",
    " 2   bmi       \n",
    " 3   children   \n",
    " 4   smoker   Category\n",
    " 5   region   category\n",
    " 6   charges  Target"
   ]
  },
  {
   "cell_type": "markdown",
   "id": "0b926f4b",
   "metadata": {
    "papermill": {
     "duration": 0.029221,
     "end_time": "2022-04-01T12:16:16.488816",
     "exception": false,
     "start_time": "2022-04-01T12:16:16.459595",
     "status": "completed"
    },
    "tags": []
   },
   "source": []
  },
  {
   "cell_type": "code",
   "execution_count": 5,
   "id": "a3c5f917",
   "metadata": {
    "execution": {
     "iopub.execute_input": "2022-04-01T12:16:16.563780Z",
     "iopub.status.busy": "2022-04-01T12:16:16.562660Z",
     "iopub.status.idle": "2022-04-01T12:16:16.567208Z",
     "shell.execute_reply": "2022-04-01T12:16:16.566594Z",
     "shell.execute_reply.started": "2022-04-01T11:46:36.497834Z"
    },
    "papermill": {
     "duration": 0.048725,
     "end_time": "2022-04-01T12:16:16.567374",
     "exception": false,
     "start_time": "2022-04-01T12:16:16.518649",
     "status": "completed"
    },
    "tags": []
   },
   "outputs": [
    {
     "data": {
      "text/html": [
       "<div>\n",
       "<style scoped>\n",
       "    .dataframe tbody tr th:only-of-type {\n",
       "        vertical-align: middle;\n",
       "    }\n",
       "\n",
       "    .dataframe tbody tr th {\n",
       "        vertical-align: top;\n",
       "    }\n",
       "\n",
       "    .dataframe thead th {\n",
       "        text-align: right;\n",
       "    }\n",
       "</style>\n",
       "<table border=\"1\" class=\"dataframe\">\n",
       "  <thead>\n",
       "    <tr style=\"text-align: right;\">\n",
       "      <th></th>\n",
       "      <th>age</th>\n",
       "      <th>sex</th>\n",
       "      <th>bmi</th>\n",
       "      <th>children</th>\n",
       "      <th>smoker</th>\n",
       "      <th>region</th>\n",
       "      <th>charges</th>\n",
       "    </tr>\n",
       "  </thead>\n",
       "  <tbody>\n",
       "    <tr>\n",
       "      <th>0</th>\n",
       "      <td>19</td>\n",
       "      <td>female</td>\n",
       "      <td>27.900</td>\n",
       "      <td>0</td>\n",
       "      <td>yes</td>\n",
       "      <td>southwest</td>\n",
       "      <td>16884.92400</td>\n",
       "    </tr>\n",
       "    <tr>\n",
       "      <th>1</th>\n",
       "      <td>18</td>\n",
       "      <td>male</td>\n",
       "      <td>33.770</td>\n",
       "      <td>1</td>\n",
       "      <td>no</td>\n",
       "      <td>southeast</td>\n",
       "      <td>1725.55230</td>\n",
       "    </tr>\n",
       "    <tr>\n",
       "      <th>2</th>\n",
       "      <td>28</td>\n",
       "      <td>male</td>\n",
       "      <td>33.000</td>\n",
       "      <td>3</td>\n",
       "      <td>no</td>\n",
       "      <td>southeast</td>\n",
       "      <td>4449.46200</td>\n",
       "    </tr>\n",
       "    <tr>\n",
       "      <th>3</th>\n",
       "      <td>33</td>\n",
       "      <td>male</td>\n",
       "      <td>22.705</td>\n",
       "      <td>0</td>\n",
       "      <td>no</td>\n",
       "      <td>northwest</td>\n",
       "      <td>21984.47061</td>\n",
       "    </tr>\n",
       "    <tr>\n",
       "      <th>4</th>\n",
       "      <td>32</td>\n",
       "      <td>male</td>\n",
       "      <td>28.880</td>\n",
       "      <td>0</td>\n",
       "      <td>no</td>\n",
       "      <td>northwest</td>\n",
       "      <td>3866.85520</td>\n",
       "    </tr>\n",
       "  </tbody>\n",
       "</table>\n",
       "</div>"
      ],
      "text/plain": [
       "   age     sex     bmi  children smoker     region      charges\n",
       "0   19  female  27.900         0    yes  southwest  16884.92400\n",
       "1   18    male  33.770         1     no  southeast   1725.55230\n",
       "2   28    male  33.000         3     no  southeast   4449.46200\n",
       "3   33    male  22.705         0     no  northwest  21984.47061\n",
       "4   32    male  28.880         0     no  northwest   3866.85520"
      ]
     },
     "execution_count": 5,
     "metadata": {},
     "output_type": "execute_result"
    }
   ],
   "source": [
    "#Find the missing values in each coloumn\n",
    "insurence_dataset.isnull().sum()\n",
    "insurence_dataset.head(5)\n"
   ]
  },
  {
   "cell_type": "markdown",
   "id": "d88382fa",
   "metadata": {
    "papermill": {
     "duration": 0.030066,
     "end_time": "2022-04-01T12:16:16.628755",
     "exception": false,
     "start_time": "2022-04-01T12:16:16.598689",
     "status": "completed"
    },
    "tags": []
   },
   "source": [
    "**Data analysis for the dataset**"
   ]
  },
  {
   "cell_type": "code",
   "execution_count": 6,
   "id": "43c49e0c",
   "metadata": {
    "execution": {
     "iopub.execute_input": "2022-04-01T12:16:16.692560Z",
     "iopub.status.busy": "2022-04-01T12:16:16.691546Z",
     "iopub.status.idle": "2022-04-01T12:16:16.714645Z",
     "shell.execute_reply": "2022-04-01T12:16:16.715093Z",
     "shell.execute_reply.started": "2022-04-01T11:11:04.716285Z"
    },
    "papermill": {
     "duration": 0.057208,
     "end_time": "2022-04-01T12:16:16.715295",
     "exception": false,
     "start_time": "2022-04-01T12:16:16.658087",
     "status": "completed"
    },
    "tags": []
   },
   "outputs": [
    {
     "data": {
      "text/html": [
       "<div>\n",
       "<style scoped>\n",
       "    .dataframe tbody tr th:only-of-type {\n",
       "        vertical-align: middle;\n",
       "    }\n",
       "\n",
       "    .dataframe tbody tr th {\n",
       "        vertical-align: top;\n",
       "    }\n",
       "\n",
       "    .dataframe thead th {\n",
       "        text-align: right;\n",
       "    }\n",
       "</style>\n",
       "<table border=\"1\" class=\"dataframe\">\n",
       "  <thead>\n",
       "    <tr style=\"text-align: right;\">\n",
       "      <th></th>\n",
       "      <th>age</th>\n",
       "      <th>bmi</th>\n",
       "      <th>children</th>\n",
       "      <th>charges</th>\n",
       "    </tr>\n",
       "  </thead>\n",
       "  <tbody>\n",
       "    <tr>\n",
       "      <th>count</th>\n",
       "      <td>1338.000000</td>\n",
       "      <td>1338.000000</td>\n",
       "      <td>1338.000000</td>\n",
       "      <td>1338.000000</td>\n",
       "    </tr>\n",
       "    <tr>\n",
       "      <th>mean</th>\n",
       "      <td>39.207025</td>\n",
       "      <td>30.663397</td>\n",
       "      <td>1.094918</td>\n",
       "      <td>13270.422265</td>\n",
       "    </tr>\n",
       "    <tr>\n",
       "      <th>std</th>\n",
       "      <td>14.049960</td>\n",
       "      <td>6.098187</td>\n",
       "      <td>1.205493</td>\n",
       "      <td>12110.011237</td>\n",
       "    </tr>\n",
       "    <tr>\n",
       "      <th>min</th>\n",
       "      <td>18.000000</td>\n",
       "      <td>15.960000</td>\n",
       "      <td>0.000000</td>\n",
       "      <td>1121.873900</td>\n",
       "    </tr>\n",
       "    <tr>\n",
       "      <th>25%</th>\n",
       "      <td>27.000000</td>\n",
       "      <td>26.296250</td>\n",
       "      <td>0.000000</td>\n",
       "      <td>4740.287150</td>\n",
       "    </tr>\n",
       "    <tr>\n",
       "      <th>50%</th>\n",
       "      <td>39.000000</td>\n",
       "      <td>30.400000</td>\n",
       "      <td>1.000000</td>\n",
       "      <td>9382.033000</td>\n",
       "    </tr>\n",
       "    <tr>\n",
       "      <th>75%</th>\n",
       "      <td>51.000000</td>\n",
       "      <td>34.693750</td>\n",
       "      <td>2.000000</td>\n",
       "      <td>16639.912515</td>\n",
       "    </tr>\n",
       "    <tr>\n",
       "      <th>max</th>\n",
       "      <td>64.000000</td>\n",
       "      <td>53.130000</td>\n",
       "      <td>5.000000</td>\n",
       "      <td>63770.428010</td>\n",
       "    </tr>\n",
       "  </tbody>\n",
       "</table>\n",
       "</div>"
      ],
      "text/plain": [
       "               age          bmi     children       charges\n",
       "count  1338.000000  1338.000000  1338.000000   1338.000000\n",
       "mean     39.207025    30.663397     1.094918  13270.422265\n",
       "std      14.049960     6.098187     1.205493  12110.011237\n",
       "min      18.000000    15.960000     0.000000   1121.873900\n",
       "25%      27.000000    26.296250     0.000000   4740.287150\n",
       "50%      39.000000    30.400000     1.000000   9382.033000\n",
       "75%      51.000000    34.693750     2.000000  16639.912515\n",
       "max      64.000000    53.130000     5.000000  63770.428010"
      ]
     },
     "execution_count": 6,
     "metadata": {},
     "output_type": "execute_result"
    }
   ],
   "source": [
    "#Statistical Data Analysis\n",
    "#describe function gives the mean,std, min max, percentage of the numarical values coloumns\n",
    "\n",
    "insurence_dataset.describe()"
   ]
  },
  {
   "cell_type": "code",
   "execution_count": 7,
   "id": "18ad740b",
   "metadata": {
    "execution": {
     "iopub.execute_input": "2022-04-01T12:16:16.779786Z",
     "iopub.status.busy": "2022-04-01T12:16:16.778760Z",
     "iopub.status.idle": "2022-04-01T12:16:17.086876Z",
     "shell.execute_reply": "2022-04-01T12:16:17.086285Z",
     "shell.execute_reply.started": "2022-04-01T11:11:04.739999Z"
    },
    "papermill": {
     "duration": 0.341879,
     "end_time": "2022-04-01T12:16:17.087032",
     "exception": false,
     "start_time": "2022-04-01T12:16:16.745153",
     "status": "completed"
    },
    "tags": []
   },
   "outputs": [
    {
     "name": "stderr",
     "output_type": "stream",
     "text": [
      "/opt/conda/lib/python3.7/site-packages/seaborn/distributions.py:2619: FutureWarning: `distplot` is a deprecated function and will be removed in a future version. Please adapt your code to use either `displot` (a figure-level function with similar flexibility) or `histplot` (an axes-level function for histograms).\n",
      "  warnings.warn(msg, FutureWarning)\n"
     ]
    },
    {
     "data": {
      "image/png": "[encoded data removed]",
      "text/plain": [
       "<Figure size 576x576 with 1 Axes>"
      ]
     },
     "metadata": {},
     "output_type": "display_data"
    }
   ],
   "source": [
    "# Find the distribution values of age column\n",
    "\n",
    "sns.set()\n",
    "plt.figure(figsize=(8,8))\n",
    "sns.distplot(insurence_dataset['age'])\n",
    "plt.title('Age Distribution')\n",
    "plt.show()"
   ]
  },
  {
   "cell_type": "code",
   "execution_count": 8,
   "id": "454566e5",
   "metadata": {
    "execution": {
     "iopub.execute_input": "2022-04-01T12:16:17.154043Z",
     "iopub.status.busy": "2022-04-01T12:16:17.153239Z",
     "iopub.status.idle": "2022-04-01T12:16:17.349634Z",
     "shell.execute_reply": "2022-04-01T12:16:17.348862Z",
     "shell.execute_reply.started": "2022-04-01T11:11:04.976821Z"
    },
    "papermill": {
     "duration": 0.231433,
     "end_time": "2022-04-01T12:16:17.349817",
     "exception": false,
     "start_time": "2022-04-01T12:16:17.118384",
     "status": "completed"
    },
    "tags": []
   },
   "outputs": [
    {
     "name": "stderr",
     "output_type": "stream",
     "text": [
      "/opt/conda/lib/python3.7/site-packages/seaborn/_decorators.py:43: FutureWarning: Pass the following variable as a keyword arg: x. From version 0.12, the only valid positional argument will be `data`, and passing other arguments without an explicit keyword will result in an error or misinterpretation.\n",
      "  FutureWarning\n"
     ]
    },
    {
     "data": {
      "image/png": "[encoded data removed]",
      "text/plain": [
       "<Figure size 576x576 with 1 Axes>"
      ]
     },
     "metadata": {},
     "output_type": "display_data"
    }
   ],
   "source": [
    "# Find the distribution values of GENDER column it is categorial coloumn in which can't use distplot plot. \n",
    "#we need to use count plot\n",
    "\n",
    "plt.figure(figsize=(8,8))\n",
    "sns.countplot(insurence_dataset['sex'])\n",
    "plt.title('Gender count')\n",
    "plt.show()"
   ]
  },
  {
   "cell_type": "code",
   "execution_count": 9,
   "id": "6e50ea23",
   "metadata": {
    "execution": {
     "iopub.execute_input": "2022-04-01T12:16:17.421517Z",
     "iopub.status.busy": "2022-04-01T12:16:17.420807Z",
     "iopub.status.idle": "2022-04-01T12:16:17.425402Z",
     "shell.execute_reply": "2022-04-01T12:16:17.425967Z",
     "shell.execute_reply.started": "2022-04-01T11:11:05.107513Z"
    },
    "papermill": {
     "duration": 0.043524,
     "end_time": "2022-04-01T12:16:17.426151",
     "exception": false,
     "start_time": "2022-04-01T12:16:17.382627",
     "status": "completed"
    },
    "tags": []
   },
   "outputs": [
    {
     "data": {
      "text/plain": [
       "male      676\n",
       "female    662\n",
       "Name: sex, dtype: int64"
      ]
     },
     "execution_count": 9,
     "metadata": {},
     "output_type": "execute_result"
    }
   ],
   "source": [
    "insurence_dataset['sex'].value_counts()"
   ]
  },
  {
   "cell_type": "code",
   "execution_count": 10,
   "id": "7de16fde",
   "metadata": {
    "execution": {
     "iopub.execute_input": "2022-04-01T12:16:17.505792Z",
     "iopub.status.busy": "2022-04-01T12:16:17.505102Z",
     "iopub.status.idle": "2022-04-01T12:16:17.839680Z",
     "shell.execute_reply": "2022-04-01T12:16:17.838917Z",
     "shell.execute_reply.started": "2022-04-01T11:11:05.118280Z"
    },
    "papermill": {
     "duration": 0.381018,
     "end_time": "2022-04-01T12:16:17.839857",
     "exception": false,
     "start_time": "2022-04-01T12:16:17.458839",
     "status": "completed"
    },
    "tags": []
   },
   "outputs": [
    {
     "name": "stderr",
     "output_type": "stream",
     "text": [
      "/opt/conda/lib/python3.7/site-packages/seaborn/distributions.py:2619: FutureWarning: `distplot` is a deprecated function and will be removed in a future version. Please adapt your code to use either `displot` (a figure-level function with similar flexibility) or `histplot` (an axes-level function for histograms).\n",
      "  warnings.warn(msg, FutureWarning)\n"
     ]
    },
    {
     "data": {
      "image/png": "[encoded data removed]",
      "text/plain": [
       "<Figure size 576x576 with 1 Axes>"
      ]
     },
     "metadata": {},
     "output_type": "display_data"
    }
   ],
   "source": [
    "# Find the distribution values of age BMI\n",
    "#Normal BMI Range for a person is 18.5 to 24.9\n",
    "sns.set()\n",
    "plt.figure(figsize=(8,8))\n",
    "sns.distplot(insurence_dataset['bmi'])\n",
    "plt.title('BMI Distribution')\n",
    "plt.show()"
   ]
  },
  {
   "cell_type": "code",
   "execution_count": 11,
   "id": "6c5ed214",
   "metadata": {
    "execution": {
     "iopub.execute_input": "2022-04-01T12:16:17.928538Z",
     "iopub.status.busy": "2022-04-01T12:16:17.927792Z",
     "iopub.status.idle": "2022-04-01T12:16:18.189424Z",
     "shell.execute_reply": "2022-04-01T12:16:18.188564Z",
     "shell.execute_reply.started": "2022-04-01T11:11:05.367858Z"
    },
    "papermill": {
     "duration": 0.303039,
     "end_time": "2022-04-01T12:16:18.189647",
     "exception": false,
     "start_time": "2022-04-01T12:16:17.886608",
     "status": "completed"
    },
    "tags": []
   },
   "outputs": [
    {
     "name": "stderr",
     "output_type": "stream",
     "text": [
      "/opt/conda/lib/python3.7/site-packages/seaborn/_decorators.py:43: FutureWarning: Pass the following variable as a keyword arg: x. From version 0.12, the only valid positional argument will be `data`, and passing other arguments without an explicit keyword will result in an error or misinterpretation.\n",
      "  FutureWarning\n"
     ]
    },
    {
     "data": {
      "image/png": "[encoded data removed]",
      "text/plain": [
       "<Figure size 576x576 with 1 Axes>"
      ]
     },
     "metadata": {},
     "output_type": "display_data"
    }
   ],
   "source": [
    "# Find the distribution values of Children column \n",
    "plt.figure(figsize=(8,8))\n",
    "sns.countplot(insurence_dataset['children'])\n",
    "plt.title('children count')\n",
    "plt.show()"
   ]
  },
  {
   "cell_type": "code",
   "execution_count": 12,
   "id": "eedbbb7a",
   "metadata": {
    "execution": {
     "iopub.execute_input": "2022-04-01T12:16:18.271354Z",
     "iopub.status.busy": "2022-04-01T12:16:18.270613Z",
     "iopub.status.idle": "2022-04-01T12:16:18.280124Z",
     "shell.execute_reply": "2022-04-01T12:16:18.280918Z",
     "shell.execute_reply.started": "2022-04-01T11:11:05.526922Z"
    },
    "papermill": {
     "duration": 0.05055,
     "end_time": "2022-04-01T12:16:18.281127",
     "exception": false,
     "start_time": "2022-04-01T12:16:18.230577",
     "status": "completed"
    },
    "tags": []
   },
   "outputs": [
    {
     "data": {
      "text/plain": [
       "0    574\n",
       "1    324\n",
       "2    240\n",
       "3    157\n",
       "4     25\n",
       "5     18\n",
       "Name: children, dtype: int64"
      ]
     },
     "execution_count": 12,
     "metadata": {},
     "output_type": "execute_result"
    }
   ],
   "source": [
    "insurence_dataset['children'].value_counts()"
   ]
  },
  {
   "cell_type": "code",
   "execution_count": 13,
   "id": "10114c99",
   "metadata": {
    "execution": {
     "iopub.execute_input": "2022-04-01T12:16:18.364537Z",
     "iopub.status.busy": "2022-04-01T12:16:18.363723Z",
     "iopub.status.idle": "2022-04-01T12:16:18.551883Z",
     "shell.execute_reply": "2022-04-01T12:16:18.550895Z",
     "shell.execute_reply.started": "2022-04-01T11:11:05.538170Z"
    },
    "papermill": {
     "duration": 0.23229,
     "end_time": "2022-04-01T12:16:18.552114",
     "exception": false,
     "start_time": "2022-04-01T12:16:18.319824",
     "status": "completed"
    },
    "tags": []
   },
   "outputs": [
    {
     "name": "stderr",
     "output_type": "stream",
     "text": [
      "/opt/conda/lib/python3.7/site-packages/seaborn/_decorators.py:43: FutureWarning: Pass the following variable as a keyword arg: x. From version 0.12, the only valid positional argument will be `data`, and passing other arguments without an explicit keyword will result in an error or misinterpretation.\n",
      "  FutureWarning\n"
     ]
    },
    {
     "data": {
      "image/png": "[encoded data removed]",
      "text/plain": [
       "<Figure size 576x576 with 1 Axes>"
      ]
     },
     "metadata": {},
     "output_type": "display_data"
    }
   ],
   "source": [
    "#Find the distribution values of Children column \n",
    "plt.figure(figsize=(8,8))\n",
    "sns.countplot(insurence_dataset['smoker'])\n",
    "plt.title('smoker count')\n",
    "plt.show()"
   ]
  },
  {
   "cell_type": "code",
   "execution_count": 14,
   "id": "3d9628cd",
   "metadata": {
    "execution": {
     "iopub.execute_input": "2022-04-01T12:16:18.640697Z",
     "iopub.status.busy": "2022-04-01T12:16:18.639883Z",
     "iopub.status.idle": "2022-04-01T12:16:18.654120Z",
     "shell.execute_reply": "2022-04-01T12:16:18.654734Z",
     "shell.execute_reply.started": "2022-04-01T11:11:05.722691Z"
    },
    "papermill": {
     "duration": 0.058726,
     "end_time": "2022-04-01T12:16:18.654951",
     "exception": false,
     "start_time": "2022-04-01T12:16:18.596225",
     "status": "completed"
    },
    "tags": []
   },
   "outputs": [
    {
     "data": {
      "text/plain": [
       "no     1064\n",
       "yes     274\n",
       "Name: smoker, dtype: int64"
      ]
     },
     "execution_count": 14,
     "metadata": {},
     "output_type": "execute_result"
    }
   ],
   "source": [
    "insurence_dataset['smoker'].value_counts()"
   ]
  },
  {
   "cell_type": "code",
   "execution_count": 15,
   "id": "0783724c",
   "metadata": {
    "execution": {
     "iopub.execute_input": "2022-04-01T12:16:18.737044Z",
     "iopub.status.busy": "2022-04-01T12:16:18.736347Z",
     "iopub.status.idle": "2022-04-01T12:16:18.944334Z",
     "shell.execute_reply": "2022-04-01T12:16:18.943303Z",
     "shell.execute_reply.started": "2022-04-01T11:11:05.731816Z"
    },
    "papermill": {
     "duration": 0.25036,
     "end_time": "2022-04-01T12:16:18.944568",
     "exception": false,
     "start_time": "2022-04-01T12:16:18.694208",
     "status": "completed"
    },
    "tags": []
   },
   "outputs": [
    {
     "name": "stderr",
     "output_type": "stream",
     "text": [
      "/opt/conda/lib/python3.7/site-packages/seaborn/_decorators.py:43: FutureWarning: Pass the following variable as a keyword arg: x. From version 0.12, the only valid positional argument will be `data`, and passing other arguments without an explicit keyword will result in an error or misinterpretation.\n",
      "  FutureWarning\n"
     ]
    },
    {
     "data": {
      "image/png": "[encoded data removed]",
      "text/plain": [
       "<Figure size 576x576 with 1 Axes>"
      ]
     },
     "metadata": {},
     "output_type": "display_data"
    }
   ],
   "source": [
    "#Find the distribution values of Region column \n",
    "plt.figure(figsize=(8,8))\n",
    "sns.countplot(insurence_dataset['region'])\n",
    "plt.title('smoker count')\n",
    "plt.show()"
   ]
  },
  {
   "cell_type": "code",
   "execution_count": 16,
   "id": "a7704d89",
   "metadata": {
    "execution": {
     "iopub.execute_input": "2022-04-01T12:16:19.031598Z",
     "iopub.status.busy": "2022-04-01T12:16:19.030597Z",
     "iopub.status.idle": "2022-04-01T12:16:19.034217Z",
     "shell.execute_reply": "2022-04-01T12:16:19.034694Z",
     "shell.execute_reply.started": "2022-04-01T11:11:05.941122Z"
    },
    "papermill": {
     "duration": 0.051873,
     "end_time": "2022-04-01T12:16:19.034884",
     "exception": false,
     "start_time": "2022-04-01T12:16:18.983011",
     "status": "completed"
    },
    "tags": []
   },
   "outputs": [
    {
     "data": {
      "text/plain": [
       "southeast    364\n",
       "southwest    325\n",
       "northwest    325\n",
       "northeast    324\n",
       "Name: region, dtype: int64"
      ]
     },
     "execution_count": 16,
     "metadata": {},
     "output_type": "execute_result"
    }
   ],
   "source": [
    "insurence_dataset['region'].value_counts()"
   ]
  },
  {
   "cell_type": "code",
   "execution_count": 17,
   "id": "8f5a5dba",
   "metadata": {
    "execution": {
     "iopub.execute_input": "2022-04-01T12:16:19.122371Z",
     "iopub.status.busy": "2022-04-01T12:16:19.118446Z",
     "iopub.status.idle": "2022-04-01T12:16:19.473538Z",
     "shell.execute_reply": "2022-04-01T12:16:19.474030Z",
     "shell.execute_reply.started": "2022-04-01T11:11:05.952041Z"
    },
    "papermill": {
     "duration": 0.398756,
     "end_time": "2022-04-01T12:16:19.474225",
     "exception": false,
     "start_time": "2022-04-01T12:16:19.075469",
     "status": "completed"
    },
    "tags": []
   },
   "outputs": [
    {
     "name": "stderr",
     "output_type": "stream",
     "text": [
      "/opt/conda/lib/python3.7/site-packages/seaborn/distributions.py:2619: FutureWarning: `distplot` is a deprecated function and will be removed in a future version. Please adapt your code to use either `displot` (a figure-level function with similar flexibility) or `histplot` (an axes-level function for histograms).\n",
      "  warnings.warn(msg, FutureWarning)\n"
     ]
    },
    {
     "data": {
      "image/png": "[encoded data removed]",
      "text/plain": [
       "<Figure size 576x576 with 1 Axes>"
      ]
     },
     "metadata": {},
     "output_type": "display_data"
    }
   ],
   "source": [
    "# Find the distribution values of Charges column\n",
    "\n",
    "\n",
    "plt.figure(figsize=(8,8))\n",
    "sns.distplot(insurence_dataset['charges'])\n",
    "plt.title('charges Distribution')\n",
    "plt.show()"
   ]
  },
  {
   "cell_type": "markdown",
   "id": "cc928d44",
   "metadata": {
    "papermill": {
     "duration": 0.045084,
     "end_time": "2022-04-01T12:16:19.560931",
     "exception": false,
     "start_time": "2022-04-01T12:16:19.515847",
     "status": "completed"
    },
    "tags": []
   },
   "source": [
    "**DATA PREPROCESSING**\n",
    "\n"
   ]
  },
  {
   "cell_type": "code",
   "execution_count": 18,
   "id": "bd2ac986",
   "metadata": {
    "execution": {
     "iopub.execute_input": "2022-04-01T12:16:19.653704Z",
     "iopub.status.busy": "2022-04-01T12:16:19.647514Z",
     "iopub.status.idle": "2022-04-01T12:16:19.673749Z",
     "shell.execute_reply": "2022-04-01T12:16:19.673230Z",
     "shell.execute_reply.started": "2022-04-01T11:18:07.309173Z"
    },
    "papermill": {
     "duration": 0.070847,
     "end_time": "2022-04-01T12:16:19.673910",
     "exception": false,
     "start_time": "2022-04-01T12:16:19.603063",
     "status": "completed"
    },
    "tags": []
   },
   "outputs": [
    {
     "data": {
      "text/html": [
       "<div>\n",
       "<style scoped>\n",
       "    .dataframe tbody tr th:only-of-type {\n",
       "        vertical-align: middle;\n",
       "    }\n",
       "\n",
       "    .dataframe tbody tr th {\n",
       "        vertical-align: top;\n",
       "    }\n",
       "\n",
       "    .dataframe thead th {\n",
       "        text-align: right;\n",
       "    }\n",
       "</style>\n",
       "<table border=\"1\" class=\"dataframe\">\n",
       "  <thead>\n",
       "    <tr style=\"text-align: right;\">\n",
       "      <th></th>\n",
       "      <th>age</th>\n",
       "      <th>sex</th>\n",
       "      <th>bmi</th>\n",
       "      <th>children</th>\n",
       "      <th>smoker</th>\n",
       "      <th>region</th>\n",
       "      <th>charges</th>\n",
       "    </tr>\n",
       "  </thead>\n",
       "  <tbody>\n",
       "    <tr>\n",
       "      <th>0</th>\n",
       "      <td>19</td>\n",
       "      <td>1</td>\n",
       "      <td>27.900</td>\n",
       "      <td>0</td>\n",
       "      <td>0</td>\n",
       "      <td>1</td>\n",
       "      <td>16884.92400</td>\n",
       "    </tr>\n",
       "    <tr>\n",
       "      <th>1</th>\n",
       "      <td>18</td>\n",
       "      <td>0</td>\n",
       "      <td>33.770</td>\n",
       "      <td>1</td>\n",
       "      <td>1</td>\n",
       "      <td>0</td>\n",
       "      <td>1725.55230</td>\n",
       "    </tr>\n",
       "    <tr>\n",
       "      <th>2</th>\n",
       "      <td>28</td>\n",
       "      <td>0</td>\n",
       "      <td>33.000</td>\n",
       "      <td>3</td>\n",
       "      <td>1</td>\n",
       "      <td>0</td>\n",
       "      <td>4449.46200</td>\n",
       "    </tr>\n",
       "    <tr>\n",
       "      <th>3</th>\n",
       "      <td>33</td>\n",
       "      <td>0</td>\n",
       "      <td>22.705</td>\n",
       "      <td>0</td>\n",
       "      <td>1</td>\n",
       "      <td>3</td>\n",
       "      <td>21984.47061</td>\n",
       "    </tr>\n",
       "    <tr>\n",
       "      <th>4</th>\n",
       "      <td>32</td>\n",
       "      <td>0</td>\n",
       "      <td>28.880</td>\n",
       "      <td>0</td>\n",
       "      <td>1</td>\n",
       "      <td>3</td>\n",
       "      <td>3866.85520</td>\n",
       "    </tr>\n",
       "    <tr>\n",
       "      <th>...</th>\n",
       "      <td>...</td>\n",
       "      <td>...</td>\n",
       "      <td>...</td>\n",
       "      <td>...</td>\n",
       "      <td>...</td>\n",
       "      <td>...</td>\n",
       "      <td>...</td>\n",
       "    </tr>\n",
       "    <tr>\n",
       "      <th>1333</th>\n",
       "      <td>50</td>\n",
       "      <td>0</td>\n",
       "      <td>30.970</td>\n",
       "      <td>3</td>\n",
       "      <td>1</td>\n",
       "      <td>3</td>\n",
       "      <td>10600.54830</td>\n",
       "    </tr>\n",
       "    <tr>\n",
       "      <th>1334</th>\n",
       "      <td>18</td>\n",
       "      <td>1</td>\n",
       "      <td>31.920</td>\n",
       "      <td>0</td>\n",
       "      <td>1</td>\n",
       "      <td>4</td>\n",
       "      <td>2205.98080</td>\n",
       "    </tr>\n",
       "    <tr>\n",
       "      <th>1335</th>\n",
       "      <td>18</td>\n",
       "      <td>1</td>\n",
       "      <td>36.850</td>\n",
       "      <td>0</td>\n",
       "      <td>1</td>\n",
       "      <td>0</td>\n",
       "      <td>1629.83350</td>\n",
       "    </tr>\n",
       "    <tr>\n",
       "      <th>1336</th>\n",
       "      <td>21</td>\n",
       "      <td>1</td>\n",
       "      <td>25.800</td>\n",
       "      <td>0</td>\n",
       "      <td>1</td>\n",
       "      <td>1</td>\n",
       "      <td>2007.94500</td>\n",
       "    </tr>\n",
       "    <tr>\n",
       "      <th>1337</th>\n",
       "      <td>61</td>\n",
       "      <td>1</td>\n",
       "      <td>29.070</td>\n",
       "      <td>0</td>\n",
       "      <td>0</td>\n",
       "      <td>3</td>\n",
       "      <td>29141.36030</td>\n",
       "    </tr>\n",
       "  </tbody>\n",
       "</table>\n",
       "<p>1338 rows × 7 columns</p>\n",
       "</div>"
      ],
      "text/plain": [
       "      age  sex     bmi  children  smoker  region      charges\n",
       "0      19    1  27.900         0       0       1  16884.92400\n",
       "1      18    0  33.770         1       1       0   1725.55230\n",
       "2      28    0  33.000         3       1       0   4449.46200\n",
       "3      33    0  22.705         0       1       3  21984.47061\n",
       "4      32    0  28.880         0       1       3   3866.85520\n",
       "...   ...  ...     ...       ...     ...     ...          ...\n",
       "1333   50    0  30.970         3       1       3  10600.54830\n",
       "1334   18    1  31.920         0       1       4   2205.98080\n",
       "1335   18    1  36.850         0       1       0   1629.83350\n",
       "1336   21    1  25.800         0       1       1   2007.94500\n",
       "1337   61    1  29.070         0       0       3  29141.36030\n",
       "\n",
       "[1338 rows x 7 columns]"
      ]
     },
     "execution_count": 18,
     "metadata": {},
     "output_type": "execute_result"
    }
   ],
   "source": [
    "#Encoding sex coloumn\n",
    "insurence_dataset.replace({'sex':{'male':0,'female':1}},inplace=True)\n",
    "\n",
    "#Encoding smoker coloumn\n",
    "insurence_dataset.replace({'smoker':{'yes':0,'no':1}},inplace=True)\n",
    "\n",
    "#Encoding smoker coloumn\n",
    "insurence_dataset.replace({'region':{'southeast':0,'southwest':1,'northwest':3,'northeast':4}},inplace=True)\n",
    "\n",
    "insurence_dataset"
   ]
  },
  {
   "cell_type": "code",
   "execution_count": 19,
   "id": "39ab9196",
   "metadata": {
    "execution": {
     "iopub.execute_input": "2022-04-01T12:16:19.760569Z",
     "iopub.status.busy": "2022-04-01T12:16:19.759794Z",
     "iopub.status.idle": "2022-04-01T12:16:19.769626Z",
     "shell.execute_reply": "2022-04-01T12:16:19.770278Z",
     "shell.execute_reply.started": "2022-04-01T11:19:45.834602Z"
    },
    "papermill": {
     "duration": 0.056059,
     "end_time": "2022-04-01T12:16:19.770654",
     "exception": false,
     "start_time": "2022-04-01T12:16:19.714595",
     "status": "completed"
    },
    "tags": []
   },
   "outputs": [
    {
     "name": "stdout",
     "output_type": "stream",
     "text": [
      "0       16884.92400\n",
      "1        1725.55230\n",
      "2        4449.46200\n",
      "3       21984.47061\n",
      "4        3866.85520\n",
      "           ...     \n",
      "1333    10600.54830\n",
      "1334     2205.98080\n",
      "1335     1629.83350\n",
      "1336     2007.94500\n",
      "1337    29141.36030\n",
      "Name: charges, Length: 1338, dtype: float64\n"
     ]
    }
   ],
   "source": [
    "#Split the features and Target\n",
    "\n",
    "#x will be the feature and y will the target\n",
    "#axis=1 col\n",
    "#axis=0 row\n",
    "\n",
    "x=insurence_dataset.drop(columns='charges',axis=1)\n",
    "y=insurence_dataset['charges']\n",
    "print(y)"
   ]
  },
  {
   "cell_type": "markdown",
   "id": "541120a4",
   "metadata": {
    "papermill": {
     "duration": 0.044147,
     "end_time": "2022-04-01T12:16:19.857152",
     "exception": false,
     "start_time": "2022-04-01T12:16:19.813005",
     "status": "completed"
    },
    "tags": []
   },
   "source": [
    "**Spliting the data into Training data and Testing data**\n"
   ]
  },
  {
   "cell_type": "code",
   "execution_count": 20,
   "id": "8bd8d47e",
   "metadata": {
    "execution": {
     "iopub.execute_input": "2022-04-01T12:16:19.946784Z",
     "iopub.status.busy": "2022-04-01T12:16:19.944317Z",
     "iopub.status.idle": "2022-04-01T12:16:19.954090Z",
     "shell.execute_reply": "2022-04-01T12:16:19.953355Z",
     "shell.execute_reply.started": "2022-04-01T11:27:52.191306Z"
    },
    "papermill": {
     "duration": 0.055769,
     "end_time": "2022-04-01T12:16:19.954264",
     "exception": false,
     "start_time": "2022-04-01T12:16:19.898495",
     "status": "completed"
    },
    "tags": []
   },
   "outputs": [
    {
     "name": "stdout",
     "output_type": "stream",
     "text": [
      "The orginal data is (1338, 6)\n",
      "The Test data is (268, 6)\n",
      "The Training Test data is (1070, 6)\n"
     ]
    }
   ],
   "source": [
    "X_train,X_test,Y_train,Y_test=train_test_split(x,y,test_size=0.2,random_state=2)\n",
    "print(\"The orginal data is\",x.shape)\n",
    "print(\"The Test data is\",X_test.shape)\n",
    "print(\"The Training Test data is\",X_train.shape)"
   ]
  },
  {
   "cell_type": "markdown",
   "id": "5e6d9f1d",
   "metadata": {
    "papermill": {
     "duration": 0.042546,
     "end_time": "2022-04-01T12:16:20.039231",
     "exception": false,
     "start_time": "2022-04-01T12:16:19.996685",
     "status": "completed"
    },
    "tags": []
   },
   "source": [
    "**Traing the Model Using Linear Regression Model**"
   ]
  },
  {
   "cell_type": "code",
   "execution_count": 21,
   "id": "ac65b3c1",
   "metadata": {
    "execution": {
     "iopub.execute_input": "2022-04-01T12:16:20.130650Z",
     "iopub.status.busy": "2022-04-01T12:16:20.129912Z",
     "iopub.status.idle": "2022-04-01T12:16:20.133110Z",
     "shell.execute_reply": "2022-04-01T12:16:20.132614Z",
     "shell.execute_reply.started": "2022-04-01T11:36:15.574023Z"
    },
    "papermill": {
     "duration": 0.052487,
     "end_time": "2022-04-01T12:16:20.133293",
     "exception": false,
     "start_time": "2022-04-01T12:16:20.080806",
     "status": "completed"
    },
    "tags": []
   },
   "outputs": [],
   "source": [
    "#Loading the Linear Regression model\n",
    "regressor=LinearRegression()\n"
   ]
  },
  {
   "cell_type": "code",
   "execution_count": 22,
   "id": "75775f50",
   "metadata": {
    "execution": {
     "iopub.execute_input": "2022-04-01T12:16:20.228475Z",
     "iopub.status.busy": "2022-04-01T12:16:20.227526Z",
     "iopub.status.idle": "2022-04-01T12:16:20.245685Z",
     "shell.execute_reply": "2022-04-01T12:16:20.245114Z",
     "shell.execute_reply.started": "2022-04-01T11:37:36.564204Z"
    },
    "papermill": {
     "duration": 0.067685,
     "end_time": "2022-04-01T12:16:20.245847",
     "exception": false,
     "start_time": "2022-04-01T12:16:20.178162",
     "status": "completed"
    },
    "tags": []
   },
   "outputs": [
    {
     "data": {
      "text/plain": [
       "LinearRegression()"
      ]
     },
     "execution_count": 22,
     "metadata": {},
     "output_type": "execute_result"
    }
   ],
   "source": [
    "# we are mapping feature and lable of traing data.\n",
    "regressor.fit(X_train,Y_train)\n"
   ]
  },
  {
   "cell_type": "markdown",
   "id": "299e9af2",
   "metadata": {
    "papermill": {
     "duration": 0.044645,
     "end_time": "2022-04-01T12:16:20.333282",
     "exception": false,
     "start_time": "2022-04-01T12:16:20.288637",
     "status": "completed"
    },
    "tags": []
   },
   "source": [
    "**Find the model Evaluation**"
   ]
  },
  {
   "cell_type": "code",
   "execution_count": 23,
   "id": "d4a62a98",
   "metadata": {
    "execution": {
     "iopub.execute_input": "2022-04-01T12:16:20.424058Z",
     "iopub.status.busy": "2022-04-01T12:16:20.423227Z",
     "iopub.status.idle": "2022-04-01T12:16:20.432104Z",
     "shell.execute_reply": "2022-04-01T12:16:20.431482Z",
     "shell.execute_reply.started": "2022-04-01T11:39:22.707581Z"
    },
    "papermill": {
     "duration": 0.056811,
     "end_time": "2022-04-01T12:16:20.432250",
     "exception": false,
     "start_time": "2022-04-01T12:16:20.375439",
     "status": "completed"
    },
    "tags": []
   },
   "outputs": [
    {
     "data": {
      "text/plain": [
       "array([  768.74087588,  9217.59406596, 13097.50035419, ...,\n",
       "       17268.71689985,  9475.3650854 , 14081.92521502])"
      ]
     },
     "execution_count": 23,
     "metadata": {},
     "output_type": "execute_result"
    }
   ],
   "source": [
    "#Prediction on Training data.\n",
    "\n",
    "training_data_prediction=regressor.predict(X_train)\n",
    "training_data_prediction"
   ]
  },
  {
   "cell_type": "markdown",
   "id": "670b7c36",
   "metadata": {
    "papermill": {
     "duration": 0.04304,
     "end_time": "2022-04-01T12:16:20.519264",
     "exception": false,
     "start_time": "2022-04-01T12:16:20.476224",
     "status": "completed"
    },
    "tags": []
   },
   "source": [
    "**Find the R square value. for Model Evalution**"
   ]
  },
  {
   "cell_type": "code",
   "execution_count": 24,
   "id": "ee41114b",
   "metadata": {
    "execution": {
     "iopub.execute_input": "2022-04-01T12:16:20.610343Z",
     "iopub.status.busy": "2022-04-01T12:16:20.609218Z",
     "iopub.status.idle": "2022-04-01T12:16:20.614161Z",
     "shell.execute_reply": "2022-04-01T12:16:20.615070Z",
     "shell.execute_reply.started": "2022-04-01T11:42:15.363803Z"
    },
    "papermill": {
     "duration": 0.054176,
     "end_time": "2022-04-01T12:16:20.615438",
     "exception": false,
     "start_time": "2022-04-01T12:16:20.561262",
     "status": "completed"
    },
    "tags": []
   },
   "outputs": [
    {
     "name": "stdout",
     "output_type": "stream",
     "text": [
      "R squre value is 0.7518713667681967\n"
     ]
    }
   ],
   "source": [
    "#R squared Value for training data\n",
    "\n",
    "r2_train= metrics.r2_score(Y_train,training_data_prediction)\n",
    "print(\"R squre value is\",r2_train)"
   ]
  },
  {
   "cell_type": "code",
   "execution_count": 25,
   "id": "ba096d07",
   "metadata": {
    "execution": {
     "iopub.execute_input": "2022-04-01T12:16:20.706902Z",
     "iopub.status.busy": "2022-04-01T12:16:20.704685Z",
     "iopub.status.idle": "2022-04-01T12:16:20.716216Z",
     "shell.execute_reply": "2022-04-01T12:16:20.716709Z",
     "shell.execute_reply.started": "2022-04-01T11:44:06.846365Z"
    },
    "papermill": {
     "duration": 0.058389,
     "end_time": "2022-04-01T12:16:20.716905",
     "exception": false,
     "start_time": "2022-04-01T12:16:20.658516",
     "status": "completed"
    },
    "tags": []
   },
   "outputs": [
    {
     "data": {
      "text/plain": [
       "array([ 1808.71060083, 11885.58357019, 10381.38451557,  2138.55568659,\n",
       "        8161.72351436, 11031.42510727,  3417.72268253,  1002.93439142,\n",
       "       12089.01474462,  9522.60973365, 11534.37027556,  4829.6186408 ,\n",
       "       29812.16053972,  -509.91982153, 12749.66653651, 13126.60730609,\n",
       "        4107.77765615,  7800.63469771, 29302.83104271,  2691.13385434,\n",
       "       12398.13767543,  2144.10172938, 34385.3733981 , 32057.62967135,\n",
       "       30236.25217645,  8871.5728404 ,  2219.00556487, 15203.42741426,\n",
       "        6467.04942025,  1970.83324718,  9415.70193549,  5703.59277143,\n",
       "        4299.16638759,  4888.61641641,  9456.99718234,  4541.60474518,\n",
       "       29834.7914107 ,  6682.78299004, 27549.12488137, 13886.89501819,\n",
       "         181.41131275, 28319.62010291,  7764.40948636,  1359.85442658,\n",
       "       10198.7842484 ,  7919.55242866, 11497.95482935,  8109.20251368,\n",
       "       10713.70162229, 13716.94274715,  6073.11080421,  -887.84531536,\n",
       "       26244.09505222, 37091.20059084,  7249.93931109, 17819.30100085,\n",
       "        1272.85187016, 10960.5112948 ,  2046.81642413, 33981.13876596,\n",
       "       11489.84117968,   733.85743422,  3921.33778731, 35840.89943385,\n",
       "       -1189.60887378, 14291.48329911, 14754.79723964,  3310.30335261,\n",
       "       12823.01608343, 11126.1589451 , 11472.49505705, 16047.56976365,\n",
       "       10051.1158323 ,  9812.01534003, 15494.40794443, 12291.82496395,\n",
       "        4310.43144221,  3578.48972177,  5253.62210302, 13186.97566004,\n",
       "        9002.38742992, 12256.95964043,  9522.04203159, 27551.61268668,\n",
       "       12535.03024346,  3870.77867533, 38456.57542256, 11045.40463787,\n",
       "        8361.19475753, 11017.2647893 , 11280.69555559, 15037.85450613,\n",
       "       10969.1398472 , 13377.73748187,  5611.1049047 , 25836.03840761,\n",
       "        4895.62868089, 10451.22644822,  2989.13725754, 28895.61466269,\n",
       "        6724.03085366,  3385.40635055,  2508.26389682, 15921.12194983,\n",
       "        7800.36956955, 10143.35566285,  9865.55867577,  4958.63710754,\n",
       "       15211.42338403, 34050.12768173,  3679.22624131, 11385.95353666,\n",
       "       24927.78836712, 15165.23666334,  2054.07745324, 10249.0336982 ,\n",
       "        9110.42625803,  6196.08497763, 11722.79969919, 28769.36837234,\n",
       "        6427.8183884 ,  7047.98694557, 15814.79732216, 16583.33296582,\n",
       "        8210.00511378, 26610.37762794, 35152.77593224, 11752.05386809,\n",
       "        7950.59777579,  9274.0071355 ,  8328.77479161,  3245.82876169,\n",
       "        3238.27100553,  4574.1450407 ,  8201.9946443 ,  8342.64934621,\n",
       "        6979.99191288, 28916.04111675, 35099.08038654,  4032.33153331,\n",
       "       27801.85784654,  4055.04421179,  6550.15681833, 13234.43138691,\n",
       "        7919.2873005 , 36399.88823855, 11709.28098058, 11238.34006362,\n",
       "        8178.49614708,   382.18827936,  6415.59050397,  7083.74588763,\n",
       "        4578.48695788, 11554.6922418 , 11513.79166896, 15397.67678528,\n",
       "        6174.46970134, 27995.06436214,  1839.68070858, 11786.28385163,\n",
       "       17330.59729418, 13827.3693473 ,  9408.62214073,  2573.12784386,\n",
       "        4287.41922191,  8820.00438592, 19249.51812543, 28566.59661771,\n",
       "       12963.07012654,  2861.961186  , 32694.5818249 , 13032.77176541,\n",
       "       33142.44405864, 34640.36622923, 11482.72068463,  7449.56169687,\n",
       "        2905.90395773,  2691.13385434, 11580.36434293,  7783.88197175,\n",
       "        2817.76329883,  1037.74663414, 31550.07216707,  7039.95871306,\n",
       "        5501.88084781, 27227.84165383,  6950.16115781,  2544.28235146,\n",
       "        7863.60495736, 35278.45930002,  7841.14519317,  4219.63195587,\n",
       "        9401.51356186, 27161.59640507,  6043.63272918, 40137.60793515,\n",
       "       37392.07626114, 13328.68130885, 26718.15283503, 12243.49754585,\n",
       "       37439.58361909,  7275.75941512,  4116.24640432,  1847.4787918 ,\n",
       "       14369.65154242, 13919.64095959,  2485.10233876, 35585.49612138,\n",
       "       12702.70989627,  8615.6212789 ,  1002.86836829, 30562.40842079,\n",
       "        3770.49272538,  3742.431602  , 12471.24858528, 14983.88011125,\n",
       "       29546.41267858,  -237.71514965,  3103.19845007,  8344.1058299 ,\n",
       "       40101.53235928,  8293.50718587, 35465.56585079, 27341.8342397 ,\n",
       "       13625.43262404, 28783.67983293, 16907.73649662,  7478.05635527,\n",
       "       16070.06101189,  7032.62492044, 10510.98367692,  3577.43740981,\n",
       "        8708.85150673,  1790.9905403 , 32714.43914541, 31988.93068484,\n",
       "       14729.28994471, 11336.43278437,  1317.77177188,  6153.69332458,\n",
       "       11062.56598291,  4093.31295944, 10862.3628451 ,   903.25308328,\n",
       "       34765.07292076, 32287.37953924, 10368.09065559, 26230.25131064,\n",
       "       12708.36199144,  2000.87846807, 11116.08975078,  2754.83949445,\n",
       "        7831.81685281, 10516.7013237 , 17028.64451082,  5701.35445201,\n",
       "       10463.69882559,  -243.01641082, -2090.47997401,  1794.49742611,\n",
       "       27669.9961783 , 33896.77844375, 37695.99863509, -1824.650919  ,\n",
       "       16078.98248058, 36853.21537862, 12909.58565946, 34039.62500981])"
      ]
     },
     "execution_count": 25,
     "metadata": {},
     "output_type": "execute_result"
    }
   ],
   "source": [
    "#Prediction on Training data.\n",
    "\n",
    "test_data_prediction=regressor.predict(X_test)\n",
    "test_data_prediction"
   ]
  },
  {
   "cell_type": "code",
   "execution_count": 26,
   "id": "9e38d998",
   "metadata": {
    "execution": {
     "iopub.execute_input": "2022-04-01T12:16:20.810654Z",
     "iopub.status.busy": "2022-04-01T12:16:20.807291Z",
     "iopub.status.idle": "2022-04-01T12:16:20.815123Z",
     "shell.execute_reply": "2022-04-01T12:16:20.815876Z",
     "shell.execute_reply.started": "2022-04-01T11:45:05.609261Z"
    },
    "papermill": {
     "duration": 0.056111,
     "end_time": "2022-04-01T12:16:20.816282",
     "exception": false,
     "start_time": "2022-04-01T12:16:20.760171",
     "status": "completed"
    },
    "tags": []
   },
   "outputs": [
    {
     "name": "stdout",
     "output_type": "stream",
     "text": [
      "R squre value for Test data 0.7518713667681967\n"
     ]
    }
   ],
   "source": [
    "#R squared Value for training data\n",
    "\n",
    "r2_test= metrics.r2_score(Y_test,test_data_prediction)\n",
    "print(\"R squre value for Test data\",r2_train)"
   ]
  },
  {
   "cell_type": "markdown",
   "id": "2224da71",
   "metadata": {
    "papermill": {
     "duration": 0.042867,
     "end_time": "2022-04-01T12:16:20.902637",
     "exception": false,
     "start_time": "2022-04-01T12:16:20.859770",
     "status": "completed"
    },
    "tags": []
   },
   "source": [
    "**BUILDING THE PREDICTIVE SYSTEM FOR MEDICAL INSURENCE**"
   ]
  },
  {
   "cell_type": "code",
   "execution_count": 27,
   "id": "724ec1df",
   "metadata": {
    "execution": {
     "iopub.execute_input": "2022-04-01T12:16:20.993901Z",
     "iopub.status.busy": "2022-04-01T12:16:20.993168Z",
     "iopub.status.idle": "2022-04-01T12:16:21.007024Z",
     "shell.execute_reply": "2022-04-01T12:16:21.007657Z",
     "shell.execute_reply.started": "2022-04-01T12:07:59.737020Z"
    },
    "papermill": {
     "duration": 0.061553,
     "end_time": "2022-04-01T12:16:21.007878",
     "exception": false,
     "start_time": "2022-04-01T12:16:20.946325",
     "status": "completed"
    },
    "tags": []
   },
   "outputs": [
    {
     "name": "stdout",
     "output_type": "stream",
     "text": [
      "The insurence cost is USD 3637.971637321589\n"
     ]
    },
    {
     "name": "stderr",
     "output_type": "stream",
     "text": [
      "/opt/conda/lib/python3.7/site-packages/sklearn/base.py:446: UserWarning: X does not have valid feature names, but LinearRegression was fitted with feature names\n",
      "  \"X does not have valid feature names, but\"\n"
     ]
    },
    {
     "data": {
      "text/plain": [
       "3756.6216"
      ]
     },
     "execution_count": 27,
     "metadata": {},
     "output_type": "execute_result"
    }
   ],
   "source": [
    "age=31\n",
    "sex=1\n",
    "bmi=25.74\n",
    "children=0\n",
    "smoker=1\n",
    "region=0\n",
    "\n",
    "input_data=(age,sex,bmi,children,smoker,region)\n",
    "\n",
    "#changing input data into numpy array\n",
    "input_data_as_numpy=np.asanyarray(input_data)\n",
    "\n",
    "#Reshape the array\n",
    "input_data_reshape=input_data_as_numpy.reshape(1,-1)\n",
    "\n",
    "prediction=regressor.predict(input_data_reshape)\n",
    "print(\"The insurence cost is USD\",prediction[0])\n",
    "3756.6216"
   ]
  },
  {
   "cell_type": "markdown",
   "id": "2b784bca",
   "metadata": {
    "papermill": {
     "duration": 0.043748,
     "end_time": "2022-04-01T12:16:21.099296",
     "exception": false,
     "start_time": "2022-04-01T12:16:21.055548",
     "status": "completed"
    },
    "tags": []
   },
   "source": []
  },
  {
   "cell_type": "markdown",
   "id": "822c4512",
   "metadata": {
    "papermill": {
     "duration": 0.04528,
     "end_time": "2022-04-01T12:16:21.189870",
     "exception": false,
     "start_time": "2022-04-01T12:16:21.144590",
     "status": "completed"
    },
    "tags": []
   },
   "source": []
  },
  {
   "cell_type": "code",
   "execution_count": null,
   "id": "4bb0d592",
   "metadata": {
    "papermill": {
     "duration": 0.043618,
     "end_time": "2022-04-01T12:16:21.279337",
     "exception": false,
     "start_time": "2022-04-01T12:16:21.235719",
     "status": "completed"
    },
    "tags": []
   },
   "outputs": [],
   "source": []
  },
  {
   "cell_type": "markdown",
   "id": "b4c7fbae",
   "metadata": {
    "papermill": {
     "duration": 0.044197,
     "end_time": "2022-04-01T12:16:21.369116",
     "exception": false,
     "start_time": "2022-04-01T12:16:21.324919",
     "status": "completed"
    },
    "tags": []
   },
   "source": []
  },
  {
   "cell_type": "code",
   "execution_count": null,
   "id": "9c5477d9",
   "metadata": {
    "papermill": {
     "duration": 0.044171,
     "end_time": "2022-04-01T12:16:21.457649",
     "exception": false,
     "start_time": "2022-04-01T12:16:21.413478",
     "status": "completed"
    },
    "tags": []
   },
   "outputs": [],
   "source": []
  }
 ],
 "metadata": {
  "kernelspec": {
   "display_name": "Python 3",
   "language": "python",
   "name": "python3"
  },
  "language_info": {
   "codemirror_mode": {
    "name": "ipython",
    "version": 3
   },
   "file_extension": ".py",
   "mimetype": "text/x-python",
   "name": "python",
   "nbconvert_exporter": "python",
   "pygments_lexer": "ipython3",
   "version": "3.7.12"
  },
  "papermill": {
   "default_parameters": {},
   "duration": 17.745434,
   "end_time": "2022-04-01T12:16:22.516731",
   "environment_variables": {},
   "exception": null,
   "input_path": "__notebook__.ipynb",
   "output_path": "__notebook__.ipynb",
   "parameters": {},
   "start_time": "2022-04-01T12:16:04.771297",
   "version": "2.3.3"
  }
 },
 "nbformat": 4,
 "nbformat_minor": 5
}
